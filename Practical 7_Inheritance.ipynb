{
 "cells": [
  {
   "cell_type": "markdown",
   "id": "495baf3b",
   "metadata": {},
   "source": [
    "Program based on Inheritance"
   ]
  },
  {
   "cell_type": "markdown",
   "id": "93c2bf97",
   "metadata": {},
   "source": [
    "Let's take vehicle as a parent class from which we will derive a class Category. "
   ]
  },
  {
   "cell_type": "markdown",
   "id": "d80dd48c",
   "metadata": {},
   "source": [
    "Category class will inherit the features of parent class Vehicle and also invoke the function from the parent class"
   ]
  },
  {
   "cell_type": "code",
   "execution_count": 2,
   "id": "d176ad65",
   "metadata": {},
   "outputs": [
    {
     "name": "stdout",
     "output_type": "stream",
     "text": [
      "Vehicle =  BMW\n",
      "Price = $ 1200\n"
     ]
    }
   ],
   "source": [
    "class Vehicle_antima:  #parent class\n",
    "    \"Parent class\"\n",
    "    def __init__(self, price):\n",
    "        self.price = price\n",
    "    def display(self):\n",
    "        print('Price = $',self.price)\n",
    "        \n",
    "class Category(Vehicle_antima):   #derived class\n",
    "    \"Child/Derived class\"\n",
    "    def __init__(self, price, name):\n",
    "        Vehicle_antima.__init__(self, price)\n",
    "        self.name = name\n",
    "        \n",
    "    def disp_name(self):\n",
    "        print('Vehicle = ',self.name)\n",
    "obj = Category(1200, 'BMW')\n",
    "obj.disp_name()\n",
    "obj.display()"
   ]
  },
  {
   "cell_type": "markdown",
   "id": "f1e5c074",
   "metadata": {},
   "source": [
    "Python ininstance() and issubclass()\n",
    "Python issubclass() or isinstance() functions are used to check the relationship of two classes and instances.\n",
    "issubclass() is used to check class inheritance.For example, in subclass(a,b) will return true only if a is the subclass of b.\n"
   ]
  },
  {
   "cell_type": "code",
   "execution_count": 6,
   "id": "2a6cdeff",
   "metadata": {},
   "outputs": [
    {
     "data": {
      "text/plain": [
       "True"
      ]
     },
     "execution_count": 6,
     "metadata": {},
     "output_type": "execute_result"
    }
   ],
   "source": [
    "issubclass(Category, Vehicle_antima)"
   ]
  },
  {
   "cell_type": "code",
   "execution_count": 7,
   "id": "636f639e",
   "metadata": {},
   "outputs": [
    {
     "data": {
      "text/plain": [
       "False"
      ]
     },
     "execution_count": 7,
     "metadata": {},
     "output_type": "execute_result"
    }
   ],
   "source": [
    "issubclass(Vehicle_antima, Category) #Vehicle_antima is not subclass of Category"
   ]
  },
  {
   "cell_type": "markdown",
   "id": "5b402f9b",
   "metadata": {},
   "source": [
    "isinstance() is used to check instance of a class. For example, isininstance(obj,A) will return true only if obj is the instance of class A or of any class derived from A."
   ]
  },
  {
   "cell_type": "code",
   "execution_count": 9,
   "id": "72dd5b5b",
   "metadata": {},
   "outputs": [
    {
     "data": {
      "text/plain": [
       "True"
      ]
     },
     "execution_count": 9,
     "metadata": {},
     "output_type": "execute_result"
    }
   ],
   "source": [
    "isinstance(obj, Vehicle_antima)"
   ]
  },
  {
   "cell_type": "code",
   "execution_count": 10,
   "id": "99d663da",
   "metadata": {},
   "outputs": [
    {
     "data": {
      "text/plain": [
       "True"
      ]
     },
     "execution_count": 10,
     "metadata": {},
     "output_type": "execute_result"
    }
   ],
   "source": [
    "isinstance(obj, Category)"
   ]
  },
  {
   "cell_type": "markdown",
   "id": "3afa3325",
   "metadata": {},
   "source": [
    "Overriding methods in Python inheritance\n",
    "\n",
    "Sometimes we need to change the functional operation of a method defined in the base class.\n",
    "\n",
    "Instead of changing the method in base class, we can define that same function in the derived class and change the codes.\n",
    "\n",
    "The base class function is overridden by the derived class function.\n",
    "\n",
    "To override a method in the base class, we must define a new method with same name and same parameters in the derived class."
   ]
  },
  {
   "cell_type": "code",
   "execution_count": 11,
   "id": "1d38bf28",
   "metadata": {},
   "outputs": [
    {
     "name": "stdout",
     "output_type": "stream",
     "text": [
      "This is derived class\n"
     ]
    }
   ],
   "source": [
    "class A_antima:  #parent class\n",
    "    \"Parent class\"\n",
    "    def display(self):\n",
    "        print('This is a base class.')\n",
    "        \n",
    "        \n",
    "class B(A_antima):  #derived class\n",
    "    \"Child/Derived class\"\n",
    "    def display(self):\n",
    "        print('This is derived class.')\n",
    "obj = B()\n",
    "obj.display()"
   ]
  },
  {
   "cell_type": "code",
   "execution_count": null,
   "id": "75a704d0",
   "metadata": {},
   "outputs": [],
   "source": []
  }
 ],
 "metadata": {
  "kernelspec": {
   "display_name": "Python 3 (ipykernel)",
   "language": "python",
   "name": "python3"
  },
  "language_info": {
   "codemirror_mode": {
    "name": "ipython",
    "version": 3
   },
   "file_extension": ".py",
   "mimetype": "text/x-python",
   "name": "python",
   "nbconvert_exporter": "python",
   "pygments_lexer": "ipython3",
   "version": "3.9.12"
  }
 },
 "nbformat": 4,
 "nbformat_minor": 5
}
